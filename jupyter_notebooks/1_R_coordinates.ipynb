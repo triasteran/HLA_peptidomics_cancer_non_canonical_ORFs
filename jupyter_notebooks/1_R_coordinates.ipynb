{
 "cells": [
  {
   "cell_type": "raw",
   "id": "77fdd80e",
   "metadata": {},
   "source": [
    "if (!require(\"BiocManager\", quietly = TRUE))\n",
    "    install.packages(\"BiocManager\")\n",
    "\n",
    "BiocManager::install(\"\n",
    "\")"
   ]
  },
  {
   "cell_type": "raw",
   "id": "2081a792",
   "metadata": {},
   "source": [
    "install.package('dplyr')"
   ]
  },
  {
   "cell_type": "code",
   "execution_count": 21,
   "id": "cc7ef89c",
   "metadata": {},
   "outputs": [],
   "source": [
    "library(dplyr)\n",
    "library(GenomicFeatures)"
   ]
  },
  {
   "cell_type": "code",
   "execution_count": 22,
   "id": "a1d0cd6f",
   "metadata": {},
   "outputs": [
    {
     "name": "stderr",
     "output_type": "stream",
     "text": [
      "Import genomic features from the file as a GRanges object ... \n",
      "OK\n",
      "\n",
      "Prepare the 'metadata' data frame ... \n",
      "OK\n",
      "\n",
      "Make the TxDb object ... \n",
      "Warning message in .get_cds_IDX(mcols0$type, mcols0$phase):\n",
      "“The \"phase\" metadata column contains non-NA values for features of type\n",
      "  stop_codon. This information was ignored.”\n",
      "OK\n",
      "\n"
     ]
    }
   ],
   "source": [
    "# this scripts transform local (transcriptomic) coordinates of extensions into global (genomic) coordinates using .gtf file. \n",
    "txdb <- makeTxDbFromGFF('/home/alla/make_PhD_great_again/NTE/VERSION_since_May2021/data/gencode.v25.annotation.gtf')\n"
   ]
  },
  {
   "cell_type": "code",
   "execution_count": 33,
   "id": "83aa5aaf",
   "metadata": {},
   "outputs": [
    {
     "data": {
      "text/html": [
       "<table class=\"dataframe\">\n",
       "<caption>A data.frame: 6 × 8</caption>\n",
       "<thead>\n",
       "\t<tr><th></th><th scope=col>Gene</th><th scope=col>tr_id1</th><th scope=col>Start</th><th scope=col>Stop</th><th scope=col>Global_Rank_within_ORF_type</th><th scope=col>Type_of_ORF</th><th scope=col>Amino.acid.sequence</th><th scope=col>tr_id</th></tr>\n",
       "\t<tr><th></th><th scope=col>&lt;chr&gt;</th><th scope=col>&lt;chr&gt;</th><th scope=col>&lt;int&gt;</th><th scope=col>&lt;int&gt;</th><th scope=col>&lt;int&gt;</th><th scope=col>&lt;chr&gt;</th><th scope=col>&lt;chr&gt;</th><th scope=col>&lt;chr&gt;</th></tr>\n",
       "</thead>\n",
       "<tbody>\n",
       "\t<tr><th scope=row>1</th><td>SNX17 </td><td>ENST00000233575</td><td>118</td><td>147</td><td>   1</td><td>uorf  </td><td>MASEAAGTR                 </td><td>ENST00000233575.6</td></tr>\n",
       "\t<tr><th scope=row>2</th><td>SNX17 </td><td>ENST00000233575</td><td> 48</td><td>128</td><td>2342</td><td>uorf  </td><td>MPRRLRPRTDVPPPSHIGSQGSQNGE</td><td>ENST00000233575.6</td></tr>\n",
       "\t<tr><th scope=row>3</th><td>MRPL18</td><td>ENST00000367034</td><td> 49</td><td> 84</td><td>   2</td><td>uorf  </td><td>MAAPGERLSRP               </td><td>ENST00000367034.4</td></tr>\n",
       "\t<tr><th scope=row>4</th><td>MRPL18</td><td>ENST00000367034</td><td>244</td><td>306</td><td>  88</td><td>nested</td><td>MKLSPQNSPTGTPGTWSFYL      </td><td>ENST00000367034.4</td></tr>\n",
       "\t<tr><th scope=row>5</th><td>CCNK  </td><td>ENST00000389879</td><td> 18</td><td> 50</td><td>   3</td><td>uorf  </td><td>MAAVGKERRR                </td><td>ENST00000389879.9</td></tr>\n",
       "\t<tr><th scope=row>6</th><td>CCNK  </td><td>ENST00000389879</td><td>299</td><td>349</td><td> 700</td><td>nested</td><td>MWAHVWGYTMIPWQLE          </td><td>ENST00000389879.9</td></tr>\n",
       "</tbody>\n",
       "</table>\n"
      ],
      "text/latex": [
       "A data.frame: 6 × 8\n",
       "\\begin{tabular}{r|llllllll}\n",
       "  & Gene & tr\\_id1 & Start & Stop & Global\\_Rank\\_within\\_ORF\\_type & Type\\_of\\_ORF & Amino.acid.sequence & tr\\_id\\\\\n",
       "  & <chr> & <chr> & <int> & <int> & <int> & <chr> & <chr> & <chr>\\\\\n",
       "\\hline\n",
       "\t1 & SNX17  & ENST00000233575 & 118 & 147 &    1 & uorf   & MASEAAGTR                  & ENST00000233575.6\\\\\n",
       "\t2 & SNX17  & ENST00000233575 &  48 & 128 & 2342 & uorf   & MPRRLRPRTDVPPPSHIGSQGSQNGE & ENST00000233575.6\\\\\n",
       "\t3 & MRPL18 & ENST00000367034 &  49 &  84 &    2 & uorf   & MAAPGERLSRP                & ENST00000367034.4\\\\\n",
       "\t4 & MRPL18 & ENST00000367034 & 244 & 306 &   88 & nested & MKLSPQNSPTGTPGTWSFYL       & ENST00000367034.4\\\\\n",
       "\t5 & CCNK   & ENST00000389879 &  18 &  50 &    3 & uorf   & MAAVGKERRR                 & ENST00000389879.9\\\\\n",
       "\t6 & CCNK   & ENST00000389879 & 299 & 349 &  700 & nested & MWAHVWGYTMIPWQLE           & ENST00000389879.9\\\\\n",
       "\\end{tabular}\n"
      ],
      "text/markdown": [
       "\n",
       "A data.frame: 6 × 8\n",
       "\n",
       "| <!--/--> | Gene &lt;chr&gt; | tr_id1 &lt;chr&gt; | Start &lt;int&gt; | Stop &lt;int&gt; | Global_Rank_within_ORF_type &lt;int&gt; | Type_of_ORF &lt;chr&gt; | Amino.acid.sequence &lt;chr&gt; | tr_id &lt;chr&gt; |\n",
       "|---|---|---|---|---|---|---|---|---|\n",
       "| 1 | SNX17  | ENST00000233575 | 118 | 147 |    1 | uorf   | MASEAAGTR                  | ENST00000233575.6 |\n",
       "| 2 | SNX17  | ENST00000233575 |  48 | 128 | 2342 | uorf   | MPRRLRPRTDVPPPSHIGSQGSQNGE | ENST00000233575.6 |\n",
       "| 3 | MRPL18 | ENST00000367034 |  49 |  84 |    2 | uorf   | MAAPGERLSRP                | ENST00000367034.4 |\n",
       "| 4 | MRPL18 | ENST00000367034 | 244 | 306 |   88 | nested | MKLSPQNSPTGTPGTWSFYL       | ENST00000367034.4 |\n",
       "| 5 | CCNK   | ENST00000389879 |  18 |  50 |    3 | uorf   | MAAVGKERRR                 | ENST00000389879.9 |\n",
       "| 6 | CCNK   | ENST00000389879 | 299 | 349 |  700 | nested | MWAHVWGYTMIPWQLE           | ENST00000389879.9 |\n",
       "\n"
      ],
      "text/plain": [
       "  Gene   tr_id1          Start Stop Global_Rank_within_ORF_type Type_of_ORF\n",
       "1 SNX17  ENST00000233575 118   147     1                        uorf       \n",
       "2 SNX17  ENST00000233575  48   128  2342                        uorf       \n",
       "3 MRPL18 ENST00000367034  49    84     2                        uorf       \n",
       "4 MRPL18 ENST00000367034 244   306    88                        nested     \n",
       "5 CCNK   ENST00000389879  18    50     3                        uorf       \n",
       "6 CCNK   ENST00000389879 299   349   700                        nested     \n",
       "  Amino.acid.sequence        tr_id            \n",
       "1 MASEAAGTR                  ENST00000233575.6\n",
       "2 MPRRLRPRTDVPPPSHIGSQGSQNGE ENST00000233575.6\n",
       "3 MAAPGERLSRP                ENST00000367034.4\n",
       "4 MKLSPQNSPTGTPGTWSFYL       ENST00000367034.4\n",
       "5 MAAVGKERRR                 ENST00000389879.9\n",
       "6 MWAHVWGYTMIPWQLE           ENST00000389879.9"
      ]
     },
     "metadata": {},
     "output_type": "display_data"
    }
   ],
   "source": [
    "cr <- read.csv('tmp_res/11204_ncORFs.txt',  sep='\\t', stringsAsFactors = FALSE)\n",
    "\n",
    "\n",
    "head(cr)"
   ]
  },
  {
   "cell_type": "code",
   "execution_count": 34,
   "id": "5fd09261",
   "metadata": {},
   "outputs": [],
   "source": [
    "tr_names <- cr$tr_id\n",
    "start <- cr$Start #it was zero  # cds_start_pos\tutr5_start\n",
    "end <- cr$Stop"
   ]
  },
  {
   "cell_type": "code",
   "execution_count": 35,
   "id": "39eab1c2",
   "metadata": {},
   "outputs": [
    {
     "data": {
      "text/html": [
       "11204"
      ],
      "text/latex": [
       "11204"
      ],
      "text/markdown": [
       "11204"
      ],
      "text/plain": [
       "[1] 11204"
      ]
     },
     "metadata": {},
     "output_type": "display_data"
    }
   ],
   "source": [
    "length(end)"
   ]
  },
  {
   "cell_type": "code",
   "execution_count": 38,
   "id": "afb1438c",
   "metadata": {},
   "outputs": [],
   "source": [
    "\n",
    "exons <- exonsBy(txdb, by=\"tx\", use.names=TRUE)[tr_names]\n",
    "x <- GRanges(tr_names, IRanges(start=start, end=end)) #,  \n",
    "out <- data.frame(pmapFromTranscripts(x, exons))\n",
    "write.table(out, 'tmp_res/11204_ncORFs_global.txt', sep='\\t')"
   ]
  },
  {
   "cell_type": "code",
   "execution_count": null,
   "id": "28000fe7",
   "metadata": {},
   "outputs": [],
   "source": []
  },
  {
   "cell_type": "markdown",
   "id": "79dd4e3c",
   "metadata": {},
   "source": [
    "# ALL"
   ]
  },
  {
   "cell_type": "code",
   "execution_count": 32,
   "id": "ee7a4512",
   "metadata": {},
   "outputs": [
    {
     "data": {
      "text/html": [
       "<table class=\"dataframe\">\n",
       "<caption>A data.frame: 6 × 8</caption>\n",
       "<thead>\n",
       "\t<tr><th></th><th scope=col>Gene</th><th scope=col>tr_id1</th><th scope=col>Start</th><th scope=col>Stop</th><th scope=col>Global_Rank_within_ORF_type</th><th scope=col>Type_of_ORF</th><th scope=col>Amino.acid.sequence</th><th scope=col>tr_id</th></tr>\n",
       "\t<tr><th></th><th scope=col>&lt;chr&gt;</th><th scope=col>&lt;chr&gt;</th><th scope=col>&lt;int&gt;</th><th scope=col>&lt;int&gt;</th><th scope=col>&lt;int&gt;</th><th scope=col>&lt;chr&gt;</th><th scope=col>&lt;chr&gt;</th><th scope=col>&lt;chr&gt;</th></tr>\n",
       "</thead>\n",
       "<tbody>\n",
       "\t<tr><th scope=row>1</th><td>SNX17</td><td>ENST00000233575</td><td> 118</td><td> 147</td><td>   1</td><td>uorf  </td><td>MASEAAGTR                              </td><td>ENST00000233575.6</td></tr>\n",
       "\t<tr><th scope=row>2</th><td>SNX17</td><td>ENST00000233575</td><td>  48</td><td> 128</td><td>2342</td><td>uorf  </td><td>MPRRLRPRTDVPPPSHIGSQGSQNGE             </td><td>ENST00000233575.6</td></tr>\n",
       "\t<tr><th scope=row>3</th><td>SNX17</td><td>ENST00000233575</td><td> 305</td><td> 424</td><td>3201</td><td>nested</td><td>MESCTVGCATASSWGCTSSFGRSMGPMCFLHSPQRSFSL</td><td>ENST00000233575.6</td></tr>\n",
       "\t<tr><th scope=row>4</th><td>SNX17</td><td>ENST00000233575</td><td> 731</td><td> 826</td><td>5761</td><td>nested</td><td>MEPFLLYGSCKSLSCLMCLSPAFGVKSIRLC        </td><td>ENST00000233575.6</td></tr>\n",
       "\t<tr><th scope=row>5</th><td>SNX17</td><td>ENST00000233575</td><td> 851</td><td> 886</td><td>9143</td><td>nested</td><td>MMTMSWRTGLA                            </td><td>ENST00000233575.6</td></tr>\n",
       "\t<tr><th scope=row>6</th><td>SNX17</td><td>ENST00000233575</td><td>1490</td><td>1531</td><td>9962</td><td>nested</td><td>MPPGSLWSNSQVS                          </td><td>ENST00000233575.6</td></tr>\n",
       "</tbody>\n",
       "</table>\n"
      ],
      "text/latex": [
       "A data.frame: 6 × 8\n",
       "\\begin{tabular}{r|llllllll}\n",
       "  & Gene & tr\\_id1 & Start & Stop & Global\\_Rank\\_within\\_ORF\\_type & Type\\_of\\_ORF & Amino.acid.sequence & tr\\_id\\\\\n",
       "  & <chr> & <chr> & <int> & <int> & <int> & <chr> & <chr> & <chr>\\\\\n",
       "\\hline\n",
       "\t1 & SNX17 & ENST00000233575 &  118 &  147 &    1 & uorf   & MASEAAGTR                               & ENST00000233575.6\\\\\n",
       "\t2 & SNX17 & ENST00000233575 &   48 &  128 & 2342 & uorf   & MPRRLRPRTDVPPPSHIGSQGSQNGE              & ENST00000233575.6\\\\\n",
       "\t3 & SNX17 & ENST00000233575 &  305 &  424 & 3201 & nested & MESCTVGCATASSWGCTSSFGRSMGPMCFLHSPQRSFSL & ENST00000233575.6\\\\\n",
       "\t4 & SNX17 & ENST00000233575 &  731 &  826 & 5761 & nested & MEPFLLYGSCKSLSCLMCLSPAFGVKSIRLC         & ENST00000233575.6\\\\\n",
       "\t5 & SNX17 & ENST00000233575 &  851 &  886 & 9143 & nested & MMTMSWRTGLA                             & ENST00000233575.6\\\\\n",
       "\t6 & SNX17 & ENST00000233575 & 1490 & 1531 & 9962 & nested & MPPGSLWSNSQVS                           & ENST00000233575.6\\\\\n",
       "\\end{tabular}\n"
      ],
      "text/markdown": [
       "\n",
       "A data.frame: 6 × 8\n",
       "\n",
       "| <!--/--> | Gene &lt;chr&gt; | tr_id1 &lt;chr&gt; | Start &lt;int&gt; | Stop &lt;int&gt; | Global_Rank_within_ORF_type &lt;int&gt; | Type_of_ORF &lt;chr&gt; | Amino.acid.sequence &lt;chr&gt; | tr_id &lt;chr&gt; |\n",
       "|---|---|---|---|---|---|---|---|---|\n",
       "| 1 | SNX17 | ENST00000233575 |  118 |  147 |    1 | uorf   | MASEAAGTR                               | ENST00000233575.6 |\n",
       "| 2 | SNX17 | ENST00000233575 |   48 |  128 | 2342 | uorf   | MPRRLRPRTDVPPPSHIGSQGSQNGE              | ENST00000233575.6 |\n",
       "| 3 | SNX17 | ENST00000233575 |  305 |  424 | 3201 | nested | MESCTVGCATASSWGCTSSFGRSMGPMCFLHSPQRSFSL | ENST00000233575.6 |\n",
       "| 4 | SNX17 | ENST00000233575 |  731 |  826 | 5761 | nested | MEPFLLYGSCKSLSCLMCLSPAFGVKSIRLC         | ENST00000233575.6 |\n",
       "| 5 | SNX17 | ENST00000233575 |  851 |  886 | 9143 | nested | MMTMSWRTGLA                             | ENST00000233575.6 |\n",
       "| 6 | SNX17 | ENST00000233575 | 1490 | 1531 | 9962 | nested | MPPGSLWSNSQVS                           | ENST00000233575.6 |\n",
       "\n"
      ],
      "text/plain": [
       "  Gene  tr_id1          Start Stop Global_Rank_within_ORF_type Type_of_ORF\n",
       "1 SNX17 ENST00000233575  118   147    1                        uorf       \n",
       "2 SNX17 ENST00000233575   48   128 2342                        uorf       \n",
       "3 SNX17 ENST00000233575  305   424 3201                        nested     \n",
       "4 SNX17 ENST00000233575  731   826 5761                        nested     \n",
       "5 SNX17 ENST00000233575  851   886 9143                        nested     \n",
       "6 SNX17 ENST00000233575 1490  1531 9962                        nested     \n",
       "  Amino.acid.sequence                     tr_id            \n",
       "1 MASEAAGTR                               ENST00000233575.6\n",
       "2 MPRRLRPRTDVPPPSHIGSQGSQNGE              ENST00000233575.6\n",
       "3 MESCTVGCATASSWGCTSSFGRSMGPMCFLHSPQRSFSL ENST00000233575.6\n",
       "4 MEPFLLYGSCKSLSCLMCLSPAFGVKSIRLC         ENST00000233575.6\n",
       "5 MMTMSWRTGLA                             ENST00000233575.6\n",
       "6 MPPGSLWSNSQVS                           ENST00000233575.6"
      ]
     },
     "metadata": {},
     "output_type": "display_data"
    }
   ],
   "source": [
    "cr <- read.csv('tmp_res/all_ncORFs.txt',  sep='\\t', stringsAsFactors = FALSE)\n",
    "\n",
    "\n",
    "head(cr)\n",
    "\n",
    "tr_names <- cr$tr_id\n",
    "start <- cr$Start #it was zero  # cds_start_pos\tutr5_start\n",
    "end <- cr$Stop\n",
    "\n",
    "\n",
    "exons <- exonsBy(txdb, by=\"tx\", use.names=TRUE)[tr_names]\n",
    "x <- GRanges(tr_names, IRanges(start=start, end=end)) #,  \n",
    "out <- data.frame(pmapFromTranscripts(x, exons))\n",
    "write.table(out, 'tmp_res/all_ncORFs_global.txt', sep='\\t')"
   ]
  },
  {
   "cell_type": "code",
   "execution_count": null,
   "id": "79abe3e4",
   "metadata": {},
   "outputs": [],
   "source": []
  }
 ],
 "metadata": {
  "kernelspec": {
   "display_name": "R",
   "language": "R",
   "name": "ir"
  },
  "language_info": {
   "codemirror_mode": "r",
   "file_extension": ".r",
   "mimetype": "text/x-r-source",
   "name": "R",
   "pygments_lexer": "r",
   "version": "4.2.2"
  }
 },
 "nbformat": 4,
 "nbformat_minor": 5
}
